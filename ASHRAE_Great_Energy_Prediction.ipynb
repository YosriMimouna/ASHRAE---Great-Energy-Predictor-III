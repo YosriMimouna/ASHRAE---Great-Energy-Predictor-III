{
  "nbformat": 4,
  "nbformat_minor": 0,
  "metadata": {
    "kernelspec": {
      "display_name": "Python 3",
      "language": "python",
      "name": "python3"
    },
    "language_info": {
      "codemirror_mode": {
        "name": "ipython",
        "version": 3
      },
      "file_extension": ".py",
      "mimetype": "text/x-python",
      "name": "python",
      "nbconvert_exporter": "python",
      "pygments_lexer": "ipython3",
      "version": "3.5.4"
    },
    "toc": {
      "base_numbering": 1,
      "nav_menu": {},
      "number_sections": true,
      "sideBar": true,
      "skip_h1_title": false,
      "title_cell": "Table of Contents",
      "title_sidebar": "Contents",
      "toc_cell": false,
      "toc_position": {},
      "toc_section_display": true,
      "toc_window_display": true
    },
    "colab": {
      "name": "ASHRAE_Great Energy Prediction.ipynb",
      "provenance": [],
      "collapsed_sections": [
        "DuRl1uEUo2SB",
        "XkpEyDRHo2SF",
        "Thd1qTryo2SN",
        "suFvPkpvo2SQ"
      ],
      "toc_visible": true,
      "include_colab_link": true
    }
  },
  "cells": [
    {
      "cell_type": "markdown",
      "metadata": {
        "id": "view-in-github",
        "colab_type": "text"
      },
      "source": [
        "<a href=\"https://colab.research.google.com/github/YosriMimouna/ASHRAE---Great-Energy-Predictor-III/blob/master/ASHRAE_Great_Energy_Prediction.ipynb\" target=\"_parent\"><img src=\"https://colab.research.google.com/assets/colab-badge.svg\" alt=\"Open In Colab\"/></a>"
      ]
    },
    {
      "cell_type": "markdown",
      "metadata": {
        "id": "KUezOPfIpBmT",
        "colab_type": "text"
      },
      "source": [
        "## Importing Data from kaggle "
      ]
    },
    {
      "cell_type": "code",
      "metadata": {
        "id": "i5gplZbypCwO",
        "colab_type": "code",
        "colab": {}
      },
      "source": [
        " !pip install -q kaggle"
      ],
      "execution_count": 0,
      "outputs": []
    },
    {
      "cell_type": "code",
      "metadata": {
        "id": "9RnagbI_pC6-",
        "colab_type": "code",
        "outputId": "3d8c51cd-c548-450c-ca05-2dc00353050e",
        "colab": {
          "resources": {
            "http://localhost:8080/nbextensions/google.colab/files.js": {
              "data": "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",
              "ok": true,
              "headers": [
                [
                  "content-type",
                  "application/javascript"
                ]
              ],
              "status": 200,
              "status_text": ""
            }
          },
          "base_uri": "https://localhost:8080/",
          "height": 91
        }
      },
      "source": [
        "from google.colab import files\n",
        "files.upload()"
      ],
      "execution_count": 0,
      "outputs": [
        {
          "output_type": "display_data",
          "data": {
            "text/html": [
              "\n",
              "     <input type=\"file\" id=\"files-057ceb63-280b-4a44-836b-25ee52558266\" name=\"files[]\" multiple disabled />\n",
              "     <output id=\"result-057ceb63-280b-4a44-836b-25ee52558266\">\n",
              "      Upload widget is only available when the cell has been executed in the\n",
              "      current browser session. Please rerun this cell to enable.\n",
              "      </output>\n",
              "      <script src=\"/nbextensions/google.colab/files.js\"></script> "
            ],
            "text/plain": [
              "<IPython.core.display.HTML object>"
            ]
          },
          "metadata": {
            "tags": []
          }
        },
        {
          "output_type": "stream",
          "text": [
            "Saving kaggle.json to kaggle.json\n"
          ],
          "name": "stdout"
        },
        {
          "output_type": "execute_result",
          "data": {
            "text/plain": [
              "{'kaggle.json': b'{\"username\":\"yosrimimouna\",\"key\":\"63008de2f8e2da22d8aadad3b6bb3e34\"}'}"
            ]
          },
          "metadata": {
            "tags": []
          },
          "execution_count": 3
        }
      ]
    },
    {
      "cell_type": "code",
      "metadata": {
        "id": "lapw__5jpN3u",
        "colab_type": "code",
        "outputId": "02e7e139-03cf-43f4-947c-971c5464e1a2",
        "colab": {
          "base_uri": "https://localhost:8080/",
          "height": 34
        }
      },
      "source": [
        "!mkdir ~/.kaggle"
      ],
      "execution_count": 0,
      "outputs": [
        {
          "output_type": "stream",
          "text": [
            "mkdir: cannot create directory ‘/root/.kaggle’: File exists\n"
          ],
          "name": "stdout"
        }
      ]
    },
    {
      "cell_type": "code",
      "metadata": {
        "id": "47-CqY5RpN_C",
        "colab_type": "code",
        "colab": {}
      },
      "source": [
        "! cp kaggle.json ~/.kaggle/"
      ],
      "execution_count": 0,
      "outputs": []
    },
    {
      "cell_type": "code",
      "metadata": {
        "id": "k45KVPqhpYkT",
        "colab_type": "code",
        "outputId": "5d0b19a1-4e15-4e93-ebcc-62c0d1a3f817",
        "colab": {
          "base_uri": "https://localhost:8080/",
          "height": 340
        }
      },
      "source": [
        " ! chmod 600 ~/.kaggle/kaggle.json\n",
        " !kaggle competitions download -c ashrae-energy-prediction"
      ],
      "execution_count": 0,
      "outputs": [
        {
          "output_type": "stream",
          "text": [
            "Warning: Looks like you're using an outdated API Version, please consider updating (server 1.5.6 / client 1.5.4)\n",
            "Downloading weather_test.csv.zip to /content\n",
            "  0% 0.00/2.53M [00:00<?, ?B/s]\n",
            "100% 2.53M/2.53M [00:00<00:00, 83.0MB/s]\n",
            "Downloading train.csv.zip to /content\n",
            " 90% 108M/120M [00:00<00:00, 87.6MB/s] \n",
            "100% 120M/120M [00:01<00:00, 108MB/s] \n",
            "Downloading weather_train.csv.zip to /content\n",
            "  0% 0.00/1.27M [00:00<?, ?B/s]\n",
            "100% 1.27M/1.27M [00:00<00:00, 83.8MB/s]\n",
            "Downloading building_metadata.csv to /content\n",
            "  0% 0.00/44.5k [00:00<?, ?B/s]\n",
            "100% 44.5k/44.5k [00:00<00:00, 30.4MB/s]\n",
            "Downloading sample_submission.csv.zip to /content\n",
            " 96% 85.0M/88.4M [00:00<00:00, 131MB/s]\n",
            "100% 88.4M/88.4M [00:00<00:00, 150MB/s]\n",
            "Downloading test.csv.zip to /content\n",
            " 97% 161M/167M [00:01<00:00, 82.7MB/s]\n",
            "100% 167M/167M [00:01<00:00, 95.7MB/s]\n"
          ],
          "name": "stdout"
        }
      ]
    },
    {
      "cell_type": "code",
      "metadata": {
        "id": "KImRpPTapYry",
        "colab_type": "code",
        "outputId": "452987c4-b3d6-4e26-82b8-382b365c0931",
        "colab": {
          "base_uri": "https://localhost:8080/",
          "height": 170
        }
      },
      "source": [
        "! mkdir ASHRAE\n",
        "! unzip /content/weather_test.csv.zip -d ASHRAE/\n",
        "! unzip /content/weather_train.csv.zip -d ASHRAE/\n",
        "! unzip /content/train.csv.zip -d ASHRAE/\n",
        "! unzip /content/test.csv.zip -d ASHRAE/\n",
        "!cp /content/building_metadata.csv ASHRAE/"
      ],
      "execution_count": 0,
      "outputs": [
        {
          "output_type": "stream",
          "text": [
            "mkdir: cannot create directory ‘ASHRAE’: File exists\n",
            "Archive:  /content/weather_test.csv.zip\n",
            "  inflating: ASHRAE/weather_test.csv  \n",
            "Archive:  /content/weather_train.csv.zip\n",
            "  inflating: ASHRAE/weather_train.csv  \n",
            "Archive:  /content/train.csv.zip\n",
            "  inflating: ASHRAE/train.csv        \n",
            "Archive:  /content/test.csv.zip\n",
            "  inflating: ASHRAE/test.csv         \n"
          ],
          "name": "stdout"
        }
      ]
    },
    {
      "cell_type": "markdown",
      "metadata": {
        "id": "0LsOD7V9o2PB",
        "colab_type": "text"
      },
      "source": [
        "# Necessary Imports"
      ]
    },
    {
      "cell_type": "code",
      "metadata": {
        "_cell_guid": "79c7e3d0-c299-4dcb-8224-4455121ee9b0",
        "_uuid": "d629ff2d2480ee46fbb7e2d37f6b5fab8052498a",
        "trusted": true,
        "id": "nimk5QXBo2PD",
        "colab_type": "code",
        "colab": {}
      },
      "source": [
        "import numpy as np\n",
        "import pandas as pd\n",
        "import scipy.special\n",
        "import matplotlib.pyplot as plt\n",
        "import os\n",
        "import random"
      ],
      "execution_count": 0,
      "outputs": []
    },
    {
      "cell_type": "code",
      "metadata": {
        "trusted": true,
        "id": "BGyPnpXMo2PI",
        "colab_type": "code",
        "colab": {}
      },
      "source": [
        "from keras.utils import Sequence\n",
        "from keras.models import Sequential\n",
        "from keras.layers import Dense, Dropout, Flatten, LSTM, Embedding\n",
        "from keras.optimizers import RMSprop,Adam\n",
        "import keras.backend as K"
      ],
      "execution_count": 0,
      "outputs": []
    },
    {
      "cell_type": "code",
      "metadata": {
        "trusted": true,
        "id": "_RveEOTKo2PN",
        "colab_type": "code",
        "colab": {}
      },
      "source": [
        "from sklearn.model_selection import train_test_split\n",
        "from sklearn.impute import SimpleImputer\n",
        "from sklearn.preprocessing import MinMaxScaler"
      ],
      "execution_count": 0,
      "outputs": []
    },
    {
      "cell_type": "code",
      "metadata": {
        "trusted": true,
        "id": "wK9ik5nQo2PR",
        "colab_type": "code",
        "colab": {}
      },
      "source": [
        "import warnings\n",
        "warnings.filterwarnings(\"ignore\")"
      ],
      "execution_count": 0,
      "outputs": []
    },
    {
      "cell_type": "markdown",
      "metadata": {
        "id": "3DtJsVbRo2PU",
        "colab_type": "text"
      },
      "source": [
        "# Load Data"
      ]
    },
    {
      "cell_type": "code",
      "metadata": {
        "trusted": true,
        "id": "4KdTjAj-o2PX",
        "colab_type": "code",
        "outputId": "11f965b7-f2b0-45d8-babe-f337686927a4",
        "colab": {
          "base_uri": "https://localhost:8080/",
          "height": 34
        }
      },
      "source": [
        "path_in = './ASHRAE/'\n",
        "print(os.listdir(path_in))"
      ],
      "execution_count": 0,
      "outputs": [
        {
          "output_type": "stream",
          "text": [
            "['building_metadata.csv', 'weather_train.csv', 'train.csv', 'test.csv', 'weather_test.csv']\n"
          ],
          "name": "stdout"
        }
      ]
    },
    {
      "cell_type": "code",
      "metadata": {
        "trusted": true,
        "id": "UWlJufRxo2Pc",
        "colab_type": "code",
        "colab": {}
      },
      "source": [
        "train_data = pd.read_csv(path_in+'train.csv', parse_dates=['timestamp'])\n",
        "train_weather = pd.read_csv(path_in+'weather_train.csv', parse_dates=['timestamp'])\n",
        "building_data = pd.read_csv(path_in+'building_metadata.csv')"
      ],
      "execution_count": 0,
      "outputs": []
    },
    {
      "cell_type": "code",
      "metadata": {
        "id": "XOQXkf3Vlt7L",
        "colab_type": "code",
        "colab": {}
      },
      "source": [
        "df = pd.read_csv('submission-file.csv')"
      ],
      "execution_count": 0,
      "outputs": []
    },
    {
      "cell_type": "code",
      "metadata": {
        "id": "akHb8sbKl8l_",
        "colab_type": "code",
        "colab": {
          "base_uri": "https://localhost:8080/",
          "height": 34
        },
        "outputId": "a8ace770-08b7-45d2-d61a-7d599834527e"
      },
      "source": [
        "df.shape"
      ],
      "execution_count": 65,
      "outputs": [
        {
          "output_type": "execute_result",
          "data": {
            "text/plain": [
              "(41697601, 2)"
            ]
          },
          "metadata": {
            "tags": []
          },
          "execution_count": 65
        }
      ]
    },
    {
      "cell_type": "code",
      "metadata": {
        "id": "mW2D7PlUBUkn",
        "colab_type": "code",
        "colab": {
          "base_uri": "https://localhost:8080/",
          "height": 204
        },
        "outputId": "40465dae-a1da-45ab-d55d-1780a15a6b23"
      },
      "source": [
        "df.head()"
      ],
      "execution_count": 66,
      "outputs": [
        {
          "output_type": "execute_result",
          "data": {
            "text/html": [
              "<div>\n",
              "<style scoped>\n",
              "    .dataframe tbody tr th:only-of-type {\n",
              "        vertical-align: middle;\n",
              "    }\n",
              "\n",
              "    .dataframe tbody tr th {\n",
              "        vertical-align: top;\n",
              "    }\n",
              "\n",
              "    .dataframe thead th {\n",
              "        text-align: right;\n",
              "    }\n",
              "</style>\n",
              "<table border=\"1\" class=\"dataframe\">\n",
              "  <thead>\n",
              "    <tr style=\"text-align: right;\">\n",
              "      <th></th>\n",
              "      <th>row_id</th>\n",
              "      <th>meter_reading</th>\n",
              "    </tr>\n",
              "  </thead>\n",
              "  <tbody>\n",
              "    <tr>\n",
              "      <th>0</th>\n",
              "      <td>0</td>\n",
              "      <td>1.000000</td>\n",
              "    </tr>\n",
              "    <tr>\n",
              "      <th>1</th>\n",
              "      <td>1</td>\n",
              "      <td>5.651442</td>\n",
              "    </tr>\n",
              "    <tr>\n",
              "      <th>2</th>\n",
              "      <td>2</td>\n",
              "      <td>4.828714</td>\n",
              "    </tr>\n",
              "    <tr>\n",
              "      <th>3</th>\n",
              "      <td>3</td>\n",
              "      <td>3.734513</td>\n",
              "    </tr>\n",
              "    <tr>\n",
              "      <th>4</th>\n",
              "      <td>4</td>\n",
              "      <td>5.993086</td>\n",
              "    </tr>\n",
              "  </tbody>\n",
              "</table>\n",
              "</div>"
            ],
            "text/plain": [
              "   row_id  meter_reading\n",
              "0       0       1.000000\n",
              "1       1       5.651442\n",
              "2       2       4.828714\n",
              "3       3       3.734513\n",
              "4       4       5.993086"
            ]
          },
          "metadata": {
            "tags": []
          },
          "execution_count": 66
        }
      ]
    },
    {
      "cell_type": "code",
      "metadata": {
        "id": "uPflkU-PBXEV",
        "colab_type": "code",
        "colab": {
          "base_uri": "https://localhost:8080/",
          "height": 204
        },
        "outputId": "00e6c7e9-4583-4bff-cb58-8d1f8d9783bf"
      },
      "source": [
        "df.tail()"
      ],
      "execution_count": 67,
      "outputs": [
        {
          "output_type": "execute_result",
          "data": {
            "text/html": [
              "<div>\n",
              "<style scoped>\n",
              "    .dataframe tbody tr th:only-of-type {\n",
              "        vertical-align: middle;\n",
              "    }\n",
              "\n",
              "    .dataframe tbody tr th {\n",
              "        vertical-align: top;\n",
              "    }\n",
              "\n",
              "    .dataframe thead th {\n",
              "        text-align: right;\n",
              "    }\n",
              "</style>\n",
              "<table border=\"1\" class=\"dataframe\">\n",
              "  <thead>\n",
              "    <tr style=\"text-align: right;\">\n",
              "      <th></th>\n",
              "      <th>row_id</th>\n",
              "      <th>meter_reading</th>\n",
              "    </tr>\n",
              "  </thead>\n",
              "  <tbody>\n",
              "    <tr>\n",
              "      <th>41697596</th>\n",
              "      <td>41697596</td>\n",
              "      <td>2887.692383</td>\n",
              "    </tr>\n",
              "    <tr>\n",
              "      <th>41697597</th>\n",
              "      <td>41697597</td>\n",
              "      <td>545.414673</td>\n",
              "    </tr>\n",
              "    <tr>\n",
              "      <th>41697598</th>\n",
              "      <td>41697598</td>\n",
              "      <td>322.929565</td>\n",
              "    </tr>\n",
              "    <tr>\n",
              "      <th>41697599</th>\n",
              "      <td>41697599</td>\n",
              "      <td>280.259949</td>\n",
              "    </tr>\n",
              "    <tr>\n",
              "      <th>41697600</th>\n",
              "      <td>41697600</td>\n",
              "      <td>256.170898</td>\n",
              "    </tr>\n",
              "  </tbody>\n",
              "</table>\n",
              "</div>"
            ],
            "text/plain": [
              "            row_id  meter_reading\n",
              "41697596  41697596    2887.692383\n",
              "41697597  41697597     545.414673\n",
              "41697598  41697598     322.929565\n",
              "41697599  41697599     280.259949\n",
              "41697600  41697600     256.170898"
            ]
          },
          "metadata": {
            "tags": []
          },
          "execution_count": 67
        }
      ]
    },
    {
      "cell_type": "code",
      "metadata": {
        "id": "qMa75XWzBfis",
        "colab_type": "code",
        "colab": {
          "base_uri": "https://localhost:8080/",
          "height": 34
        },
        "outputId": "300ced22-c303-4fde-9e5e-f3e6cef4c175"
      },
      "source": [
        "y_test.shape"
      ],
      "execution_count": 69,
      "outputs": [
        {
          "output_type": "execute_result",
          "data": {
            "text/plain": [
              "(41697601, 1)"
            ]
          },
          "metadata": {
            "tags": []
          },
          "execution_count": 69
        }
      ]
    },
    {
      "cell_type": "markdown",
      "metadata": {
        "id": "64kgahKGo2Ph",
        "colab_type": "text"
      },
      "source": [
        "# Help function"
      ]
    },
    {
      "cell_type": "code",
      "metadata": {
        "trusted": true,
        "id": "h2jy3xqko2Pi",
        "colab_type": "code",
        "colab": {}
      },
      "source": [
        "def plot_bar(data, name):\n",
        "    fig = plt.figure(figsize=(16, 9))\n",
        "    ax = fig.add_subplot(111)\n",
        "    data_label = data[name].value_counts()\n",
        "    dict_train = dict(zip(data_label.keys(), ((data_label.sort_index())).tolist()))\n",
        "    names = list(dict_train.keys())\n",
        "    values = list(dict_train.values())\n",
        "    plt.bar(names, values)\n",
        "    ax.set_xticklabels(names, rotation=45)\n",
        "    plt.grid()\n",
        "    plt.show()"
      ],
      "execution_count": 0,
      "outputs": []
    },
    {
      "cell_type": "markdown",
      "metadata": {
        "id": "1I35JrJNo2Pm",
        "colab_type": "text"
      },
      "source": [
        "# Handle missing values of building and weather data\n",
        "The missing data are numerical values. So for the first step we can use a simple imputer of the sklearn library."
      ]
    },
    {
      "cell_type": "code",
      "metadata": {
        "trusted": true,
        "id": "rG-fEoj4o2Pn",
        "colab_type": "code",
        "colab": {}
      },
      "source": [
        "cols_with_missing_train_weather = [col for col in train_weather.columns if train_weather[col].isnull().any()]\n",
        "cols_with_missing_building = [col for col in building_data.columns if building_data[col].isnull().any()]"
      ],
      "execution_count": 0,
      "outputs": []
    },
    {
      "cell_type": "code",
      "metadata": {
        "trusted": true,
        "id": "WLSQ-82So2Pq",
        "colab_type": "code",
        "outputId": "3820ddeb-18b7-4e9e-ece8-96ad1d3cecfb",
        "colab": {
          "base_uri": "https://localhost:8080/",
          "height": 51
        }
      },
      "source": [
        "print(cols_with_missing_train_weather)\n",
        "print(cols_with_missing_building)"
      ],
      "execution_count": 0,
      "outputs": [
        {
          "output_type": "stream",
          "text": [
            "['air_temperature', 'cloud_coverage', 'dew_temperature', 'precip_depth_1_hr', 'sea_level_pressure', 'wind_direction', 'wind_speed']\n",
            "['year_built', 'floor_count']\n"
          ],
          "name": "stdout"
        }
      ]
    },
    {
      "cell_type": "code",
      "metadata": {
        "trusted": true,
        "id": "DtIm-kx6o2Pu",
        "colab_type": "code",
        "colab": {}
      },
      "source": [
        "imp_most = SimpleImputer(strategy='most_frequent')\n",
        "train_weather[cols_with_missing_train_weather] = imp_most.fit_transform(train_weather[cols_with_missing_train_weather])\n",
        "building_data[cols_with_missing_building] = imp_most.fit_transform(building_data[cols_with_missing_building])"
      ],
      "execution_count": 0,
      "outputs": []
    },
    {
      "cell_type": "markdown",
      "metadata": {
        "id": "lgspb0-do2Px",
        "colab_type": "text"
      },
      "source": [
        "# Scale objective label"
      ]
    },
    {
      "cell_type": "code",
      "metadata": {
        "trusted": true,
        "id": "N3x1dI80o2Pz",
        "colab_type": "code",
        "colab": {}
      },
      "source": [
        "train_data['meter_reading'] = np.log1p(train_data['meter_reading'])"
      ],
      "execution_count": 0,
      "outputs": []
    },
    {
      "cell_type": "markdown",
      "metadata": {
        "id": "tzXIvexao2P2",
        "colab_type": "text"
      },
      "source": [
        "# Create new features\n",
        "## Train data\n",
        "Based on the timestamp we create new features which are cyclic."
      ]
    },
    {
      "cell_type": "code",
      "metadata": {
        "trusted": true,
        "id": "7TLtE8TKo2P3",
        "colab_type": "code",
        "colab": {}
      },
      "source": [
        "train_data['month'] = train_data['timestamp'].dt.month\n",
        "train_data['day'] = train_data['timestamp'].dt.weekday\n",
        "train_data['year'] = train_data['timestamp'].dt.year\n",
        "train_data['hour'] = train_data['timestamp'].dt.hour"
      ],
      "execution_count": 0,
      "outputs": []
    },
    {
      "cell_type": "markdown",
      "metadata": {
        "id": "UT_CX5Pio2P8",
        "colab_type": "text"
      },
      "source": [
        "Additionally we create the feature weekend: 5 = saturday and 6 = sunday."
      ]
    },
    {
      "cell_type": "code",
      "metadata": {
        "trusted": true,
        "id": "Pm7M3Jmto2P-",
        "colab_type": "code",
        "colab": {}
      },
      "source": [
        "train_data['weekend'] = np.where((train_data['day'] == 5) | (train_data['day'] == 6), 1, 0)"
      ],
      "execution_count": 0,
      "outputs": []
    },
    {
      "cell_type": "markdown",
      "metadata": {
        "id": "FonMNGHEo2QC",
        "colab_type": "text"
      },
      "source": [
        "## Weather data\n",
        "The feature wind_direction is cyclic."
      ]
    },
    {
      "cell_type": "code",
      "metadata": {
        "trusted": true,
        "id": "l74OzxaMo2QD",
        "colab_type": "code",
        "colab": {}
      },
      "source": [
        "train_weather['wind_direction'+'_sin'] = np.sin((2*np.pi*train_weather['wind_direction'])/360)\n",
        "train_weather['wind_direction'+'_cos'] = np.cos((2*np.pi*train_weather['wind_direction'])/360)\n",
        "train_weather = train_weather.drop(['wind_direction'], axis=1)"
      ],
      "execution_count": 0,
      "outputs": []
    },
    {
      "cell_type": "markdown",
      "metadata": {
        "id": "Gaa7L870o2QG",
        "colab_type": "text"
      },
      "source": [
        "# Encoding\n",
        "### Feature meter\n",
        "There are 4 types of meters: <br>\n",
        "0 = electricity, 1 = chilledwater, 2 = steam, 3 = hotwater <br>\n",
        "We use the one hot encoding for this 4 feature."
      ]
    },
    {
      "cell_type": "code",
      "metadata": {
        "trusted": true,
        "id": "JJa8agrVo2QI",
        "colab_type": "code",
        "colab": {}
      },
      "source": [
        "train_data = pd.get_dummies(train_data, columns=['meter'])"
      ],
      "execution_count": 0,
      "outputs": []
    },
    {
      "cell_type": "markdown",
      "metadata": {
        "id": "BO1qO4Uio2QL",
        "colab_type": "text"
      },
      "source": [
        "### Features month, day and hour\n",
        "We created the features month, day and hour which are cyclic."
      ]
    },
    {
      "cell_type": "code",
      "metadata": {
        "trusted": true,
        "id": "Ah4mYzgzo2QM",
        "colab_type": "code",
        "colab": {}
      },
      "source": [
        "features_cyc = {'month' : 12, 'day' : 7, 'hour' : 24}\n",
        "for feature in features_cyc.keys():\n",
        "    train_data[feature+'_sin'] = np.sin((2*np.pi*train_data[feature])/features_cyc[feature])\n",
        "    train_data[feature+'_cos'] = np.cos((2*np.pi*train_data[feature])/features_cyc[feature])\n",
        "train_data = train_data.drop(features_cyc.keys(), axis=1)"
      ],
      "execution_count": 0,
      "outputs": []
    },
    {
      "cell_type": "markdown",
      "metadata": {
        "id": "Ugv-uSKXo2QQ",
        "colab_type": "text"
      },
      "source": [
        "## Building data\n",
        "The feature primary_use is a categorical feature with 16 categories. For the first we use a simple mapping."
      ]
    },
    {
      "cell_type": "code",
      "metadata": {
        "trusted": true,
        "id": "cnpmGx1co2QR",
        "colab_type": "code",
        "outputId": "97784a86-6399-4882-af41-7d700e0f6959",
        "colab": {
          "base_uri": "https://localhost:8080/",
          "height": 645
        }
      },
      "source": [
        "plot_bar(building_data, 'primary_use')"
      ],
      "execution_count": 0,
      "outputs": [
        {
          "output_type": "display_data",
          "data": {
            "image/png": "[encoded data removed]",
            "text/plain": [
              "<Figure size 1152x648 with 1 Axes>"
            ]
          },
          "metadata": {
            "tags": []
          }
        }
      ]
    },
    {
      "cell_type": "code",
      "metadata": {
        "trusted": true,
        "id": "EENS0nero2QX",
        "colab_type": "code",
        "colab": {}
      },
      "source": [
        "map_use = dict(zip(building_data['primary_use'].value_counts().sort_index().keys(),\n",
        "                     range(1, len(building_data['primary_use'].value_counts())+1)))"
      ],
      "execution_count": 0,
      "outputs": []
    },
    {
      "cell_type": "code",
      "metadata": {
        "trusted": true,
        "id": "WUyt8hrso2Qi",
        "colab_type": "code",
        "colab": {}
      },
      "source": [
        "building_data['primary_use'] = building_data['primary_use'].replace(map_use)"
      ],
      "execution_count": 0,
      "outputs": []
    },
    {
      "cell_type": "code",
      "metadata": {
        "trusted": true,
        "id": "YkSnAR2jo2Qm",
        "colab_type": "code",
        "colab": {}
      },
      "source": [
        "#building_data = pd.get_dummies(building_data, columns=['primary_use'])"
      ],
      "execution_count": 0,
      "outputs": []
    },
    {
      "cell_type": "markdown",
      "metadata": {
        "id": "x9ws2q1co2Qp",
        "colab_type": "text"
      },
      "source": [
        "# Scale building and weather data\n",
        "## Weather data"
      ]
    },
    {
      "cell_type": "code",
      "metadata": {
        "trusted": true,
        "id": "QMRBuGaBo2Qq",
        "colab_type": "code",
        "colab": {}
      },
      "source": [
        "weather_scale = ['air_temperature', 'cloud_coverage', 'dew_temperature', 'sea_level_pressure', 'wind_speed']"
      ],
      "execution_count": 0,
      "outputs": []
    },
    {
      "cell_type": "code",
      "metadata": {
        "trusted": true,
        "id": "4hSvI2XEo2Qu",
        "colab_type": "code",
        "colab": {}
      },
      "source": [
        "mean = train_weather[weather_scale].mean(axis=0)\n",
        "train_weather[weather_scale] = train_weather[weather_scale].astype('float32')\n",
        "train_weather[weather_scale] -= train_weather[weather_scale].mean(axis=0)\n",
        "std = train_weather[weather_scale].std(axis=0)\n",
        "train_weather[weather_scale] /= train_weather[weather_scale].std(axis=0)"
      ],
      "execution_count": 0,
      "outputs": []
    },
    {
      "cell_type": "markdown",
      "metadata": {
        "id": "tqqYNy5po2Qx",
        "colab_type": "text"
      },
      "source": [
        "## Building data"
      ]
    },
    {
      "cell_type": "code",
      "metadata": {
        "trusted": true,
        "id": "24he2BBBo2Qy",
        "colab_type": "code",
        "colab": {}
      },
      "source": [
        "building_scale = ['square_feet', 'year_built', 'floor_count']"
      ],
      "execution_count": 0,
      "outputs": []
    },
    {
      "cell_type": "code",
      "metadata": {
        "trusted": true,
        "id": "3LydPCb9o2Q1",
        "colab_type": "code",
        "colab": {}
      },
      "source": [
        "mean = building_data[building_scale].mean(axis=0)\n",
        "building_data[building_scale] = building_data[building_scale].astype('float32')\n",
        "building_data[building_scale] -= building_data[building_scale].mean(axis=0)\n",
        "std = building_data[building_scale].std(axis=0)\n",
        "building_data[building_scale] /= building_data[building_scale].std(axis=0)"
      ],
      "execution_count": 0,
      "outputs": []
    },
    {
      "cell_type": "markdown",
      "metadata": {
        "id": "ErGaH7fRo2Q5",
        "colab_type": "text"
      },
      "source": [
        "# Merge data"
      ]
    },
    {
      "cell_type": "code",
      "metadata": {
        "trusted": true,
        "id": "GdSQYN5zo2Q7",
        "colab_type": "code",
        "colab": {}
      },
      "source": [
        "train_data = pd.merge(train_data, building_data, on='building_id', right_index=True)\n",
        "train_data = train_data.sort_values(['timestamp'])\n",
        "train_data = pd.merge_asof(train_data, train_weather, on='timestamp', by='site_id', right_index=True)\n",
        "del train_weather"
      ],
      "execution_count": 0,
      "outputs": []
    },
    {
      "cell_type": "markdown",
      "metadata": {
        "id": "_y5S1s20o2RB",
        "colab_type": "text"
      },
      "source": [
        "# Build the data generator"
      ]
    },
    {
      "cell_type": "code",
      "metadata": {
        "trusted": true,
        "id": "UzPAiefZo2RD",
        "colab_type": "code",
        "colab": {}
      },
      "source": [
        "class DataGenerator(Sequence):\n",
        "  \n",
        "    def __init__(self, data, list_IDs, features, batch_size, shuffle=False):\n",
        "        self.data = data.loc[list_IDs].copy()\n",
        "        self.list_IDs = list_IDs\n",
        "        self.features = features\n",
        "        self.batch_size = batch_size\n",
        "        self.shuffle = shuffle\n",
        "        self.on_epoch_end()\n",
        "    \n",
        "    \n",
        "    def __len__(self):\n",
        "        return int(np.floor(len(self.list_IDs)/self.batch_size))\n",
        "    \n",
        "    \n",
        "    def __getitem__(self, index):\n",
        "        indexes = self.indexes[index*self.batch_size:(index+1)*self.batch_size]\n",
        "        list_IDs_temp = [self.list_IDs[k] for k in indexes]\n",
        "        X, y = self.__data_generation(list_IDs_temp)\n",
        "        return X, y\n",
        "    \n",
        "    \n",
        "    def on_epoch_end(self):\n",
        "        self.indexes = np.arange(len(self.list_IDs))\n",
        "        if self.shuffle == True:\n",
        "            np.random.shuffle(self.indexes)\n",
        "\n",
        "        \n",
        "    def __data_generation(self, list_IDs_temp):        \n",
        "        X = np.empty((len(list_IDs_temp), len(self.features)), dtype=float)\n",
        "        y = np.empty((len(list_IDs_temp), 1), dtype=float)\n",
        "        X = self.data.loc[list_IDs_temp, self.features].values\n",
        "        \n",
        "        if 'meter_reading' in self.data.columns:\n",
        "            y = self.data.loc[list_IDs_temp, 'meter_reading'].values\n",
        "        # reshape\n",
        "        X = np.reshape(X, (X.shape[0], 1, X.shape[1]))\n",
        "        return X, y"
      ],
      "execution_count": 0,
      "outputs": []
    },
    {
      "cell_type": "markdown",
      "metadata": {
        "id": "xPLWBdHro2RH",
        "colab_type": "text"
      },
      "source": [
        "# Split the random input data into train and validation\n",
        "Since it's a timeseries problem, we split the train and validation data by timestamp and not with a random split."
      ]
    },
    {
      "cell_type": "code",
      "metadata": {
        "trusted": true,
        "id": "A6QHvorQo2RJ",
        "colab_type": "code",
        "outputId": "1b795082-8a7b-43fb-c780-adb0408b41af",
        "colab": {
          "base_uri": "https://localhost:8080/",
          "height": 34
        }
      },
      "source": [
        "train_size = int(len(train_data.index)*0.75)\n",
        "val_size = len(train_data.index) - train_size\n",
        "train_list, val_list = train_data.index[0:train_size], train_data.index[train_size:train_size+val_size]\n",
        "print(train_size, val_size)\n"
      ],
      "execution_count": 0,
      "outputs": [
        {
          "output_type": "stream",
          "text": [
            "15162075 5054025\n"
          ],
          "name": "stdout"
        }
      ]
    },
    {
      "cell_type": "markdown",
      "metadata": {
        "id": "1yNjy2qfo2RN",
        "colab_type": "text"
      },
      "source": [
        "# Define the features"
      ]
    },
    {
      "cell_type": "code",
      "metadata": {
        "trusted": true,
        "id": "uu69XH6no2RP",
        "colab_type": "code",
        "colab": {}
      },
      "source": [
        "no_features = ['building_id', 'timestamp', 'meter_reading', 'year']\n",
        "features = train_data.columns.difference(no_features)"
      ],
      "execution_count": 0,
      "outputs": []
    },
    {
      "cell_type": "markdown",
      "metadata": {
        "id": "dASzeAwQo2RS",
        "colab_type": "text"
      },
      "source": [
        "# Define train and validation data via Data Generator"
      ]
    },
    {
      "cell_type": "code",
      "metadata": {
        "trusted": true,
        "id": "m9uuDTcKo2RU",
        "colab_type": "code",
        "colab": {}
      },
      "source": [
        "batch_size = 1024\n",
        "train_generator = DataGenerator(train_data, train_list, features, batch_size)\n",
        "val_generator = DataGenerator(train_data, val_list, features, batch_size)"
      ],
      "execution_count": 0,
      "outputs": []
    },
    {
      "cell_type": "markdown",
      "metadata": {
        "id": "QAGre_gQo2RY",
        "colab_type": "text"
      },
      "source": [
        "# Define Recurrent Neural Network\n",
        "We use a simple recurrent neural network for train and prediction. Later we will improve."
      ]
    },
    {
      "cell_type": "code",
      "metadata": {
        "trusted": true,
        "id": "WrDYF1Tjo2RZ",
        "colab_type": "code",
        "outputId": "c163379a-d1b3-4085-92e7-e9b04ffcce04",
        "colab": {
          "base_uri": "https://localhost:8080/",
          "height": 34
        }
      },
      "source": [
        "input_dim = len(features)\n",
        "print(input_dim)"
      ],
      "execution_count": 0,
      "outputs": [
        {
          "output_type": "stream",
          "text": [
            "24\n"
          ],
          "name": "stdout"
        }
      ]
    },
    {
      "cell_type": "code",
      "metadata": {
        "trusted": true,
        "id": "dNg10a1To2Rd",
        "colab_type": "code",
        "outputId": "dfabb172-c4b6-40da-c166-352f666d8b52",
        "colab": {
          "base_uri": "https://localhost:8080/",
          "height": 139
        }
      },
      "source": [
        "model = Sequential()\n",
        "model.add(LSTM(units=8, activation = 'relu', input_shape=(1, input_dim)))\n",
        "model.add(Dense(1, activation='relu'))"
      ],
      "execution_count": 0,
      "outputs": [
        {
          "output_type": "stream",
          "text": [
            "WARNING:tensorflow:From /usr/local/lib/python3.6/dist-packages/keras/backend/tensorflow_backend.py:66: The name tf.get_default_graph is deprecated. Please use tf.compat.v1.get_default_graph instead.\n",
            "\n",
            "WARNING:tensorflow:From /usr/local/lib/python3.6/dist-packages/keras/backend/tensorflow_backend.py:541: The name tf.placeholder is deprecated. Please use tf.compat.v1.placeholder instead.\n",
            "\n",
            "WARNING:tensorflow:From /usr/local/lib/python3.6/dist-packages/keras/backend/tensorflow_backend.py:4432: The name tf.random_uniform is deprecated. Please use tf.random.uniform instead.\n",
            "\n"
          ],
          "name": "stdout"
        }
      ]
    },
    {
      "cell_type": "code",
      "metadata": {
        "trusted": true,
        "id": "TNWCDbkso2Ri",
        "colab_type": "code",
        "colab": {}
      },
      "source": [
        "# Root mean squared error\n",
        "def rmse(y_true, y_pred):\n",
        "    return K.sqrt(K.mean(K.square(y_pred - y_true)))"
      ],
      "execution_count": 0,
      "outputs": []
    },
    {
      "cell_type": "code",
      "metadata": {
        "trusted": true,
        "id": "YOAZHqS9o2Rn",
        "colab_type": "code",
        "outputId": "ce7a03a9-ee74-4a6a-b921-bca568d950e7",
        "colab": {
          "base_uri": "https://localhost:8080/",
          "height": 51
        }
      },
      "source": [
        "model.compile(optimizer = Adam(lr=1e-4),\n",
        "              loss='mse',\n",
        "              metrics=[rmse])"
      ],
      "execution_count": 0,
      "outputs": [
        {
          "output_type": "stream",
          "text": [
            "WARNING:tensorflow:From /usr/local/lib/python3.6/dist-packages/keras/optimizers.py:793: The name tf.train.Optimizer is deprecated. Please use tf.compat.v1.train.Optimizer instead.\n",
            "\n"
          ],
          "name": "stdout"
        }
      ]
    },
    {
      "cell_type": "code",
      "metadata": {
        "trusted": true,
        "id": "TiwAPsnQo2Rr",
        "colab_type": "code",
        "outputId": "d378d626-dd98-40a1-a3d4-c22e56ba3a65",
        "colab": {
          "base_uri": "https://localhost:8080/",
          "height": 221
        }
      },
      "source": [
        "model.summary()"
      ],
      "execution_count": 0,
      "outputs": [
        {
          "output_type": "stream",
          "text": [
            "Model: \"sequential_1\"\n",
            "_________________________________________________________________\n",
            "Layer (type)                 Output Shape              Param #   \n",
            "=================================================================\n",
            "lstm_1 (LSTM)                (None, 8)                 1056      \n",
            "_________________________________________________________________\n",
            "dense_1 (Dense)              (None, 1)                 9         \n",
            "=================================================================\n",
            "Total params: 1,065\n",
            "Trainable params: 1,065\n",
            "Non-trainable params: 0\n",
            "_________________________________________________________________\n"
          ],
          "name": "stdout"
        }
      ]
    },
    {
      "cell_type": "code",
      "metadata": {
        "trusted": true,
        "id": "a2U_ec9fo2Ru",
        "colab_type": "code",
        "colab": {}
      },
      "source": [
        "epochs = 1"
      ],
      "execution_count": 0,
      "outputs": []
    },
    {
      "cell_type": "markdown",
      "metadata": {
        "id": "uaiOIy9No2Ry",
        "colab_type": "text"
      },
      "source": [
        "# Train model"
      ]
    },
    {
      "cell_type": "code",
      "metadata": {
        "trusted": true,
        "id": "YTGYly5vo2Ry",
        "colab_type": "code",
        "outputId": "d49e4a7e-57f6-485d-b40c-449577a6ad8d",
        "colab": {
          "base_uri": "https://localhost:8080/",
          "height": 394
        }
      },
      "source": [
        "history = model.fit_generator(generator=train_generator,\n",
        "                              validation_data=val_generator,\n",
        "                              epochs = epochs)"
      ],
      "execution_count": 43,
      "outputs": [
        {
          "output_type": "stream",
          "text": [
            "WARNING:tensorflow:From /usr/local/lib/python3.6/dist-packages/tensorflow_core/python/ops/math_grad.py:1424: where (from tensorflow.python.ops.array_ops) is deprecated and will be removed in a future version.\n",
            "Instructions for updating:\n",
            "Use tf.where in 2.0, which has the same broadcast rule as np.where\n",
            "WARNING:tensorflow:From /usr/local/lib/python3.6/dist-packages/keras/backend/tensorflow_backend.py:1033: The name tf.assign_add is deprecated. Please use tf.compat.v1.assign_add instead.\n",
            "\n",
            "WARNING:tensorflow:From /usr/local/lib/python3.6/dist-packages/keras/backend/tensorflow_backend.py:1020: The name tf.assign is deprecated. Please use tf.compat.v1.assign instead.\n",
            "\n",
            "WARNING:tensorflow:From /usr/local/lib/python3.6/dist-packages/keras/backend/tensorflow_backend.py:3005: The name tf.Session is deprecated. Please use tf.compat.v1.Session instead.\n",
            "\n",
            "Epoch 1/1\n",
            "WARNING:tensorflow:From /usr/local/lib/python3.6/dist-packages/keras/backend/tensorflow_backend.py:190: The name tf.get_default_session is deprecated. Please use tf.compat.v1.get_default_session instead.\n",
            "\n",
            "WARNING:tensorflow:From /usr/local/lib/python3.6/dist-packages/keras/backend/tensorflow_backend.py:197: The name tf.ConfigProto is deprecated. Please use tf.compat.v1.ConfigProto instead.\n",
            "\n",
            "WARNING:tensorflow:From /usr/local/lib/python3.6/dist-packages/keras/backend/tensorflow_backend.py:207: The name tf.global_variables is deprecated. Please use tf.compat.v1.global_variables instead.\n",
            "\n",
            "WARNING:tensorflow:From /usr/local/lib/python3.6/dist-packages/keras/backend/tensorflow_backend.py:216: The name tf.is_variable_initialized is deprecated. Please use tf.compat.v1.is_variable_initialized instead.\n",
            "\n",
            "WARNING:tensorflow:From /usr/local/lib/python3.6/dist-packages/keras/backend/tensorflow_backend.py:223: The name tf.variables_initializer is deprecated. Please use tf.compat.v1.variables_initializer instead.\n",
            "\n",
            "14806/14806 [==============================] - 8584s 580ms/step - loss: 5.1912 - rmse: 2.2055 - val_loss: 3.3179 - val_rmse: 1.8169\n"
          ],
          "name": "stdout"
        }
      ]
    },
    {
      "cell_type": "markdown",
      "metadata": {
        "id": "ogBpvvLZo2R1",
        "colab_type": "text"
      },
      "source": [
        "# Analyse results\n",
        "A short analysis of the train results."
      ]
    },
    {
      "cell_type": "code",
      "metadata": {
        "trusted": true,
        "id": "cpYqXIy2o2R2",
        "colab_type": "code",
        "colab": {
          "base_uri": "https://localhost:8080/",
          "height": 295
        },
        "outputId": "2ede4056-db7a-498a-d3e3-2e6f227d0ba0"
      },
      "source": [
        "loss = history.history['loss']\n",
        "loss_val = history.history['val_loss']\n",
        "epochs = range(1, len(loss)+1)\n",
        "plt.plot(epochs, loss, 'bo', label='loss_train')\n",
        "plt.plot(epochs, loss_val, 'b', label='loss_val')\n",
        "plt.title('value of the loss function')\n",
        "plt.xlabel('epochs')\n",
        "plt.ylabel('value of the loss function')\n",
        "plt.legend()\n",
        "plt.grid()\n",
        "plt.show()"
      ],
      "execution_count": 45,
      "outputs": [
        {
          "output_type": "display_data",
          "data": {
            "image/png": "[encoded data removed]",
            "text/plain": [
              "<Figure size 432x288 with 1 Axes>"
            ]
          },
          "metadata": {
            "tags": []
          }
        }
      ]
    },
    {
      "cell_type": "code",
      "metadata": {
        "trusted": true,
        "colab_type": "code",
        "id": "B_gV4ZMUGwCl",
        "colab": {}
      },
      "source": [
        "acc = history.history['rmse']\n",
        "acc_val = history.history['val_rmse']\n",
        "epochs = range(1, len(loss)+1)\n",
        "plt.plot(epochs, acc, 'bo', label='accuracy_train')\n",
        "plt.plot(epochs, acc_val, 'b', label='accuracy_val')\n",
        "plt.title('accuracy')\n",
        "plt.xlabel('epochs')\n",
        "plt.ylabel('value of accuracy')\n",
        "plt.legend()\n",
        "plt.grid()\n",
        "plt.show()"
      ],
      "execution_count": 0,
      "outputs": []
    },
    {
      "cell_type": "markdown",
      "metadata": {
        "id": "XkpEyDRHo2SF",
        "colab_type": "text"
      },
      "source": [
        "# Predict test data\n",
        "* We follow the steps above to prepare the data\n",
        "* Build data generator\n",
        "* Predict subdate\n",
        "* Write data in an array"
      ]
    },
    {
      "cell_type": "code",
      "metadata": {
        "trusted": true,
        "id": "yft5lQ8Po2SG",
        "colab_type": "code",
        "colab": {
          "base_uri": "https://localhost:8080/",
          "height": 867
        },
        "outputId": "1ee7bf90-5284-4ad9-d838-ffec4a26f379"
      },
      "source": [
        "nrows = 1667904\n",
        "batch_size = 1022\n",
        "steps = 25\n",
        "y_test = np.empty(())\n",
        "test_weather = pd.read_csv(path_in+'weather_test.csv', parse_dates=['timestamp'])\n",
        "cols_with_missing_test_weather = [col for col in test_weather.columns if test_weather[col].isnull().any()]\n",
        "test_weather[cols_with_missing_test_weather] = imp_most.fit_transform(test_weather[cols_with_missing_test_weather])\n",
        "\n",
        "mean = test_weather[weather_scale].mean(axis=0)\n",
        "test_weather[weather_scale] = test_weather[weather_scale].astype('float32')\n",
        "test_weather[weather_scale] -= test_weather[weather_scale].mean(axis=0)\n",
        "std = test_weather[weather_scale].std(axis=0)\n",
        "test_weather[weather_scale] /= test_weather[weather_scale].std(axis=0)\n",
        "\n",
        "test_weather['wind_direction'+'_sin'] = np.sin((2*np.pi*test_weather['wind_direction'])/360)\n",
        "test_weather['wind_direction'+'_cos'] = np.cos((2*np.pi*test_weather['wind_direction'])/360)\n",
        "test_weather = test_weather.drop(['wind_direction'], axis=1)\n",
        "\n",
        "for i in range(0, steps):\n",
        "    print('work on step ', (i+1))\n",
        "    test_data = pd.read_csv(path_in+'test.csv', skiprows=range(1,i*(nrows)+1), nrows=nrows, parse_dates=['timestamp'])\n",
        "    test_data['month'] = test_data['timestamp'].dt.month\n",
        "    test_data['day'] = test_data['timestamp'].dt.weekday\n",
        "    test_data['year'] = test_data['timestamp'].dt.year\n",
        "    test_data['hour'] = test_data['timestamp'].dt.hour\n",
        "    test_data['weekend'] = np.where((test_data['day'] == 5) | (test_data['day'] == 6), 1, 0)\n",
        "    for feature in features_cyc.keys():\n",
        "        test_data[feature+'_sin'] = np.sin((2*np.pi*test_data[feature])/features_cyc[feature])\n",
        "        test_data[feature+'_cos'] = np.cos((2*np.pi*test_data[feature])/features_cyc[feature])\n",
        "    test_data = test_data.drop(features_cyc.keys(), axis=1)\n",
        "    test_data = pd.get_dummies(test_data, columns=['meter'])\n",
        "    test_data = pd.merge(test_data, building_data, on='building_id', right_index=True)\n",
        "    test_data = test_data.sort_values(['timestamp'])\n",
        "    test_data = pd.merge_asof(test_data, test_weather, on='timestamp', by='site_id', right_index=True)\n",
        "    test_data = test_data.sort_values(['row_id'])\n",
        "    for feature in features:\n",
        "        if feature not in test_data:\n",
        "            test_data[feature] = 0\n",
        "    test_generator = DataGenerator(test_data, test_data.index, features, batch_size)\n",
        "    predict = model.predict_generator(test_generator, verbose=1, workers=1)\n",
        "    predict = np.expm1(predict)\n",
        "    y_test = np.vstack((y_test, predict))\n",
        "    del test_data\n",
        "    del test_generator"
      ],
      "execution_count": 58,
      "outputs": [
        {
          "output_type": "stream",
          "text": [
            "work on step  1\n",
            "1632/1632 [==============================] - 130s 80ms/step\n",
            "work on step  2\n",
            "1632/1632 [==============================] - 127s 78ms/step\n",
            "work on step  3\n",
            "1632/1632 [==============================] - 136s 83ms/step\n",
            "work on step  4\n",
            "1632/1632 [==============================] - 133s 81ms/step\n",
            "work on step  5\n",
            "1632/1632 [==============================] - 131s 80ms/step\n",
            "work on step  6\n",
            "1632/1632 [==============================] - 127s 78ms/step\n",
            "work on step  7\n",
            "1632/1632 [==============================] - 143s 87ms/step\n",
            "work on step  8\n",
            "1632/1632 [==============================] - 147s 90ms/step\n",
            "work on step  9\n",
            "1632/1632 [==============================] - 149s 91ms/step\n",
            "work on step  10\n",
            "1632/1632 [==============================] - 132s 81ms/step\n",
            "work on step  11\n",
            "1632/1632 [==============================] - 126s 77ms/step\n",
            "work on step  12\n",
            "1632/1632 [==============================] - 128s 79ms/step\n",
            "work on step  13\n",
            "1632/1632 [==============================] - 134s 82ms/step\n",
            "work on step  14\n",
            "1632/1632 [==============================] - 129s 79ms/step\n",
            "work on step  15\n",
            "1632/1632 [==============================] - 124s 76ms/step\n",
            "work on step  16\n",
            "1632/1632 [==============================] - 128s 78ms/step\n",
            "work on step  17\n",
            "1632/1632 [==============================] - 142s 87ms/step\n",
            "work on step  18\n",
            "1632/1632 [==============================] - 125s 77ms/step\n",
            "work on step  19\n",
            "1632/1632 [==============================] - 126s 77ms/step\n",
            "work on step  20\n",
            "1632/1632 [==============================] - 125s 76ms/step\n",
            "work on step  21\n",
            "1632/1632 [==============================] - 117s 72ms/step\n",
            "work on step  22\n",
            "1632/1632 [==============================] - 125s 77ms/step\n",
            "work on step  23\n",
            "1632/1632 [==============================] - 127s 78ms/step\n",
            "work on step  24\n",
            "1632/1632 [==============================] - 127s 78ms/step\n",
            "work on step  25\n",
            "1632/1632 [==============================] - 128s 79ms/step\n"
          ],
          "name": "stdout"
        }
      ]
    },
    {
      "cell_type": "markdown",
      "metadata": {
        "id": "suFvPkpvo2SQ",
        "colab_type": "text"
      },
      "source": [
        "# Write output for submission"
      ]
    },
    {
      "cell_type": "code",
      "metadata": {
        "trusted": true,
        "id": "B6Szm4EIo2SR",
        "colab_type": "code",
        "colab": {}
      },
      "source": [
        "output = pd.DataFrame({'row_id': range(0, len(y_test)),\n",
        "                       'meter_reading': y_test.reshape(len(y_test))})\n",
        "output = output[['row_id', 'meter_reading']]\n",
        "output.to_csv('submission-file.csv', index=False)"
      ],
      "execution_count": 0,
      "outputs": []
    },
    {
      "cell_type": "code",
      "metadata": {
        "id": "OQKZ69wPp2UC",
        "colab_type": "code",
        "colab": {
          "base_uri": "https://localhost:8080/",
          "height": 68
        },
        "outputId": "9a92542d-234c-401d-8103-219ac6824b19"
      },
      "source": [
        "!kaggle competitions submit ashrae-energy-prediction -f submission-file.csv -m 'Final submission'"
      ],
      "execution_count": 88,
      "outputs": [
        {
          "output_type": "stream",
          "text": [
            "Warning: Looks like you're using an outdated API Version, please consider updating (server 1.5.6 / client 1.5.4)\n",
            "100% 1.04G/1.04G [00:30<00:00, 36.2MB/s]\n",
            "Successfully submitted to ASHRAE - Great Energy Predictor III"
          ],
          "name": "stdout"
        }
      ]
    }
  ]
}